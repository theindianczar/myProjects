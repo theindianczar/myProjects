{
  "nbformat": 4,
  "nbformat_minor": 0,
  "metadata": {
    "colab": {
      "name": "numpy.ipynb",
      "provenance": [],
      "authorship_tag": "ABX9TyMYuqGKydnoZ0RwzhGLIUGc",
      "include_colab_link": true
    },
    "kernelspec": {
      "name": "python3",
      "display_name": "Python 3"
    }
  },
  "cells": [
    {
      "cell_type": "markdown",
      "metadata": {
        "id": "view-in-github",
        "colab_type": "text"
      },
      "source": [
        "<a href=\"https://colab.research.google.com/github/theindianczar/myProjects/blob/master/numpy.ipynb\" target=\"_parent\"><img src=\"https://colab.research.google.com/assets/colab-badge.svg\" alt=\"Open In Colab\"/></a>"
      ]
    },
    {
      "cell_type": "code",
      "metadata": {
        "id": "x0a0t8NGzdGJ",
        "colab_type": "code",
        "colab": {}
      },
      "source": [
        "import numpy as np\n"
      ],
      "execution_count": 2,
      "outputs": []
    },
    {
      "cell_type": "code",
      "metadata": {
        "id": "51J8NgstzwI3",
        "colab_type": "code",
        "colab": {}
      },
      "source": [
        "vec = np.array([1,2,3])"
      ],
      "execution_count": null,
      "outputs": []
    },
    {
      "cell_type": "code",
      "metadata": {
        "id": "i9wrfyaHzwy9",
        "colab_type": "code",
        "colab": {}
      },
      "source": [
        "mat = np.array([[1,2,1],[4,5,9],[1,8,9]])"
      ],
      "execution_count": null,
      "outputs": []
    },
    {
      "cell_type": "code",
      "metadata": {
        "id": "Ql-80EANzzly",
        "colab_type": "code",
        "colab": {}
      },
      "source": [
        "vec2 = np.arange(0,15)"
      ],
      "execution_count": null,
      "outputs": []
    },
    {
      "cell_type": "code",
      "metadata": {
        "id": "JD1YPzXMz1Wn",
        "colab_type": "code",
        "colab": {}
      },
      "source": [
        "vec3 = np.arange(3,21,6)"
      ],
      "execution_count": null,
      "outputs": []
    },
    {
      "cell_type": "code",
      "metadata": {
        "id": "YzL4cPxVz3Gv",
        "colab_type": "code",
        "colab": {}
      },
      "source": [
        "vec4 = np.linspace(0,5,10)"
      ],
      "execution_count": null,
      "outputs": []
    },
    {
      "cell_type": "code",
      "metadata": {
        "id": "41qAVECJz6ME",
        "colab_type": "code",
        "colab": {}
      },
      "source": [
        "vec4_reshaped = vec4.reshape(5,2)"
      ],
      "execution_count": null,
      "outputs": []
    },
    {
      "cell_type": "code",
      "metadata": {
        "id": "fax1Tqu1z75o",
        "colab_type": "code",
        "colab": {}
      },
      "source": [
        "mat2 = np.zeros([5,3])"
      ],
      "execution_count": null,
      "outputs": []
    },
    {
      "cell_type": "code",
      "metadata": {
        "id": "j3U3YtcPz9O3",
        "colab_type": "code",
        "colab": {}
      },
      "source": [
        "mat3 = np.ones((3,5))"
      ],
      "execution_count": null,
      "outputs": []
    },
    {
      "cell_type": "code",
      "metadata": {
        "id": "PCO1hDf0z-tH",
        "colab_type": "code",
        "colab": {}
      },
      "source": [
        "mat4 = np.eye(5)"
      ],
      "execution_count": null,
      "outputs": []
    },
    {
      "cell_type": "code",
      "metadata": {
        "id": "r9UX45O_z_YQ",
        "colab_type": "code",
        "colab": {}
      },
      "source": [
        "vec5 = np.arange(1,6)\n",
        "vec6 = np.arange(3,8)\n",
        "print(vec5+vec6)\n",
        "print(vec5*vec6)\n",
        "product = np.matmul(mat,vec)\n",
        "\n",
        "### solving the equation ie multiplying mat with vec gives product\n",
        "### here we are given mat and product and we are trying to find vec\n",
        "print(np.linalg.solve(mat,product))\n",
        "\n",
        "## calculate inverse of matrix\n",
        "print(np.linalg.inv(mat))"
      ],
      "execution_count": null,
      "outputs": []
    },
    {
      "cell_type": "code",
      "metadata": {
        "id": "I0sqh0M70csp",
        "colab_type": "code",
        "colab": {}
      },
      "source": [
        "# we can find the unique values in an array\n",
        "print(np.unique(vec7))\n"
      ],
      "execution_count": null,
      "outputs": []
    },
    {
      "cell_type": "code",
      "metadata": {
        "id": "UeaH3qcR0irK",
        "colab_type": "code",
        "colab": {}
      },
      "source": [
        " # uniform random variable  ( uniform dist between 0 and 1)\n",
        " rand_mat = np.random.rand(5,5)\n",
        "\n",
        " # standard normal random variable ( mean 0 and sttd devn 1)\n",
        " rand_mat2 = np.random.randn(10,5)\n",
        "\n",
        "## calculate mean and stdd devn for matrix\n",
        "print(np.mean(rand_mat))\n",
        "print(np.std(rand_mat2))"
      ],
      "execution_count": null,
      "outputs": []
    }
  ]
}